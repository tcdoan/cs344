{
 "cells": [
  {
   "cell_type": "code",
   "execution_count": 13,
   "metadata": {},
   "outputs": [
    {
     "name": "stdout",
     "output_type": "stream",
     "text": [
      "[1, 1, 1, 1, 1, 1, 1, 1, 1, 1, 1, 1, 1, 1, 1, 1, 1, 1, 1, 1, 1, 1, 1, 1, 1, 1, 1, 1, 1, 1, 1, 1] [0, 0, 0, 0, 0, 0, 0, 0, 0, 0, 0, 0, 0, 0, 0, 0, 0, 0, 0, 0, 0, 0, 0, 0, 0, 0, 0, 0, 0, 0, 0, 0]\n"
     ]
    }
   ],
   "source": [
    "BLOCKS = 2\n",
    "BLOCK_DIM = 8\n",
    "SECTION_SIZE = 2*BLOCK_DIM\n",
    "N = BLOCKS * SECTION_SIZE\n",
    "n = SECTION_SIZE\n",
    "X = [1 for i in range(N)]\n",
    "Y = [0 for x in X]\n",
    "print(X, Y)"
   ]
  },
  {
   "cell_type": "code",
   "execution_count": 18,
   "metadata": {},
   "outputs": [
    {
     "name": "stdout",
     "output_type": "stream",
     "text": [
      "tt = [0, 1, 2, 3, 4, 5, 6, 7]\n",
      "ii = [8, 9, 10, 11, 12, 13, 14, 15]\n",
      " X [1, 1, 1, 1, 1, 1, 1, 1, 1, 1, 1, 1, 1, 1, 1, 1, 1, 1, 1, 1, 1, 1, 1, 1, 1, 1, 1, 1, 1, 1, 1, 1]\n",
      "XY [1, 1, 1, 1, 1, 1, 1, 1, 0, 0, 0, 0, 0, 0, 0, 0]\n",
      "XY [1, 2, 1, 4, 1, 2, 1, 8, 0, 0, 0, 0, 0, 0, 0, 8]\n",
      "XY [1, 2, 3, 4, 5, 6, 7, 8, 8, 8, 8, 8, 8, 8, 8, 8]\n"
     ]
    }
   ],
   "source": [
    "def scan(X, Y, n, blockId):\n",
    "    bs = BLOCK_DIM\n",
    "    tt = [x for x in range(bs)]\n",
    "    ii = [blockId*bs + t for t in tt]\n",
    "    print('tt =' ,tt)\n",
    "    print('ii =' ,ii)\n",
    "\n",
    "    XY = [0 for k in range(2*bs)]\n",
    "    for k in range(len(tt)):\n",
    "        i = ii[k]\n",
    "        t = tt[k]\n",
    "        if i < n:\n",
    "            XY[t] = X[i]\n",
    "    \n",
    "        if i + bs < n: \n",
    "            XY[t + bs] = X[i + bs]\n",
    "    print(' X', X)\n",
    "    print('XY', XY)\n",
    "\n",
    "    stride = 1\n",
    "    while stride <= bs:\n",
    "        for t in tt:\n",
    "            index = (t+1) * 2 * stride - 1\n",
    "            if index < SECTION_SIZE:\n",
    "                XY[index] += XY[index - stride]\n",
    "        stride = stride * 2\n",
    "    print('XY', XY)\n",
    "\n",
    "    stride = SECTION_SIZE//4\n",
    "    while stride > 0:\n",
    "        for t in tt:\n",
    "            index = (t+1) * 2 * stride - 1\n",
    "            if index + stride < SECTION_SIZE:\n",
    "                XY[index + stride] += XY[index]\n",
    "        stride = stride // 2\n",
    "\n",
    "    print('XY', XY)\n",
    "\n",
    "\n",
    "scan(X, Y, n, 1)"
   ]
  }
 ],
 "metadata": {
  "kernelspec": {
   "display_name": "Python 3",
   "language": "python",
   "name": "python3"
  },
  "language_info": {
   "codemirror_mode": {
    "name": "ipython",
    "version": 3
   },
   "file_extension": ".py",
   "mimetype": "text/x-python",
   "name": "python",
   "nbconvert_exporter": "python",
   "pygments_lexer": "ipython3",
   "version": "3.11.4"
  }
 },
 "nbformat": 4,
 "nbformat_minor": 2
}
