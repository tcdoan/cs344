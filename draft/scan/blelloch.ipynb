{
 "cells": [
  {
   "cell_type": "code",
   "execution_count": 2,
   "metadata": {},
   "outputs": [
    {
     "name": "stdout",
     "output_type": "stream",
     "text": [
      "3\n"
     ]
    }
   ],
   "source": [
    "from math import log2\n",
    "x = [3, 1, 7, 0, 4, 1, 6, 3]\n",
    "y = [0 for _ in x]\n",
    "n = len(x)\n",
    "print(int(log2(n)))"
   ]
  },
  {
   "cell_type": "code",
   "execution_count": 5,
   "metadata": {},
   "outputs": [
    {
     "name": "stdout",
     "output_type": "stream",
     "text": [
      "[3, 1, 7, 0, 4, 1, 6, 3]\n",
      "d:  0\n",
      "d:  1\n",
      "d:  2\n",
      "[3, 4, 7, 11, 4, 5, 6, 25]\n"
     ]
    }
   ],
   "source": [
    "def scan1(x, n):\n",
    "    xy = [_ for _ in x]\n",
    "    print(xy)\n",
    "    logn = int(log2(n))\n",
    "    for d in range(logn):\n",
    "        print('d: ', d)\n",
    "        for i in range(0, n):\n",
    "            step = 2**(d+1)\n",
    "            if (i % step ==0):\n",
    "                ai = i + 2**d -1\n",
    "                bi = i + 2**(d+1) - 1 \n",
    "                xy[bi] = xy[ai] + xy[bi]\n",
    "            \n",
    "    return xy\n",
    "\n",
    "s = scan1(x, n)\n",
    "print(s)"
   ]
  },
  {
   "cell_type": "code",
   "execution_count": 6,
   "metadata": {},
   "outputs": [
    {
     "name": "stdout",
     "output_type": "stream",
     "text": [
      "[1, 2, 4, 8, 16]\n"
     ]
    }
   ],
   "source": [
    "d = [0, 1, 2, 3, 4]\n",
    "two_power_d = [1 << x for x in d]\n",
    "print(two_power_d)\n"
   ]
  }
 ],
 "metadata": {
  "kernelspec": {
   "display_name": "Python 3",
   "language": "python",
   "name": "python3"
  },
  "language_info": {
   "codemirror_mode": {
    "name": "ipython",
    "version": 3
   },
   "file_extension": ".py",
   "mimetype": "text/x-python",
   "name": "python",
   "nbconvert_exporter": "python",
   "pygments_lexer": "ipython3",
   "version": "3.10.12"
  }
 },
 "nbformat": 4,
 "nbformat_minor": 2
}
