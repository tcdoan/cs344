{
 "cells": [
  {
   "cell_type": "code",
   "execution_count": 1,
   "metadata": {},
   "outputs": [],
   "source": [
    "from math import log2\n",
    "x = [3, 1, 7, 0, 4, 1, 6, 3]\n",
    "y = [0 for _ in x]\n"
   ]
  },
  {
   "cell_type": "code",
   "execution_count": 5,
   "metadata": {},
   "outputs": [
    {
     "name": "stdout",
     "output_type": "stream",
     "text": [
      "[3, 1, 7, 0, 4, 1, 6, 3]\n",
      "d:  0\n",
      "d:  1\n",
      "d:  2\n",
      "xy == [3, 4, 7, 11, 4, 5, 6, 25] True\n"
     ]
    }
   ],
   "source": [
    "def scan(x, n):\n",
    "    xy = [_ for _ in x]\n",
    "    print(xy)\n",
    "    for d in range( int(log2(n))):\n",
    "        print('d: ', d)\n",
    "        for i in range(0, n, int(2**(d+1))):\n",
    "            i1 = i + 2**d -1\n",
    "            i2 = i + 2**(d+1) -1 \n",
    "            xy[i2] = xy[i1] + xy[i2]\n",
    "            \n",
    "            # print('i = ', i, ': i + 2**d -1 = ', i1)\n",
    "            \n",
    "            # print('i = ', i, ': i + 2**(d+1) -1 = ', i2)        \n",
    "    return xy\n",
    "\n",
    "expected = [3, 4, 7, 11, 4, 5, 6, 25]\n",
    "xy = scan(x, len(x))\n",
    "print(f'xy == {expected}', xy == expected)"
   ]
  }
 ],
 "metadata": {
  "kernelspec": {
   "display_name": "Python 3",
   "language": "python",
   "name": "python3"
  },
  "language_info": {
   "codemirror_mode": {
    "name": "ipython",
    "version": 3
   },
   "file_extension": ".py",
   "mimetype": "text/x-python",
   "name": "python",
   "nbconvert_exporter": "python",
   "pygments_lexer": "ipython3",
   "version": "3.10.12"
  }
 },
 "nbformat": 4,
 "nbformat_minor": 2
}
