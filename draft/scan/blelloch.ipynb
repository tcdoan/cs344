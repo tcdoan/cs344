{
 "cells": [
  {
   "cell_type": "code",
   "execution_count": 2,
   "metadata": {},
   "outputs": [],
   "source": [
    "from math import log2\n",
    "x = [3, 1, 7, 0, 4, 1, 6, 3]\n",
    "y = [0 for _ in x]"
   ]
  },
  {
   "cell_type": "markdown",
   "metadata": {},
   "source": [
    "![H2](h2.png)"
   ]
  },
  {
   "cell_type": "code",
   "execution_count": 5,
   "metadata": {},
   "outputs": [
    {
     "name": "stdout",
     "output_type": "stream",
     "text": [
      "[3, 1, 7, 0, 4, 1, 6, 3]\n",
      "d:  0\n",
      "d:  1\n",
      "d:  2\n",
      "xy == [3, 4, 7, 11, 4, 5, 6, 25] True\n"
     ]
    }
   ],
   "source": [
    "def scan(x, n):\n",
    "    xy = [_ for _ in x]\n",
    "    print(xy)\n",
    "    for d in range( int(log2(n))):\n",
    "        print('d: ', d)\n",
    "        for i in range(0, n, int(2**(d+1))):\n",
    "            i1 = i + 2**d -1\n",
    "            i2 = i + 2**(d+1) -1 \n",
    "            xy[i2] = xy[i1] + xy[i2]\n",
    "            \n",
    "            # print('i = ', i, ': i + 2**d -1 = ', i1)\n",
    "            # print('i = ', i, ': i + 2**(d+1) -1 = ', i2)        \n",
    "    return xy\n",
    "\n",
    "expected = [3, 4, 7, 11, 4, 5, 6, 25]\n",
    "xy = scan(x, len(x))\n",
    "print(f'xy == {expected}', xy == expected)"
   ]
  },
  {
   "cell_type": "code",
   "execution_count": 6,
   "metadata": {},
   "outputs": [],
   "source": [
    "def down_by_half(n):\n",
    "    num = n >> 1\n",
    "    while num > 0:        \n",
    "        yield num\n",
    "        num >>= 1\n",
    "\n",
    "def up_by_half(n):\n",
    "    num = 1\n",
    "    while num < n:\n",
    "        yield num\n",
    "        num <<= 1"
   ]
  },
  {
   "cell_type": "markdown",
   "metadata": {},
   "source": [
    "![H3](h3.png)"
   ]
  },
  {
   "cell_type": "markdown",
   "metadata": {},
   "source": [
    "![H4](h4.png)"
   ]
  },
  {
   "cell_type": "code",
   "execution_count": 7,
   "metadata": {},
   "outputs": [
    {
     "name": "stdout",
     "output_type": "stream",
     "text": [
      "xy: [3, 1, 7, 0, 4, 1, 6, 3]\n",
      "[3, 4, 7, 7, 4, 5, 6, 9]\n",
      "[3, 4, 7, 11, 4, 5, 6, 14]\n",
      "[3, 4, 7, 11, 4, 5, 6, 25]\n",
      "----------------------------------------\n",
      "[3, 4, 7, 11, 4, 5, 6, 0]\n",
      "[3, 4, 7, 0, 4, 5, 6, 11]\n",
      "[3, 0, 7, 4, 4, 11, 6, 16]\n",
      "[0, 3, 4, 11, 11, 15, 16, 22]\n",
      "y == [0, 3, 4, 11, 11, 15, 16, 22] True\n"
     ]
    }
   ],
   "source": [
    "def scan(x, y, n):        \n",
    "    xy = [0 for _ in x]\n",
    "\n",
    "    # copy input values from device memory x to shared memory xy\n",
    "    for tid in range(n>>1):\n",
    "        xy[2*tid] = x[2*tid]\n",
    "        xy[2*tid+1] = x[2*tid+1]            \n",
    "    print(f'xy: {xy}')\n",
    "\n",
    "    # build sums in place up the tree\n",
    "    stride = 1\n",
    "    for d in down_by_half(n):\n",
    "        for tid in range(d):\n",
    "            ai = stride * (2*tid + 1) -1\n",
    "            bi = stride * (2*tid + 2) -1\n",
    "            xy[bi] += xy[ai]\n",
    "        print(xy)\n",
    "        stride *= 2\n",
    "\n",
    "    # clear last element\n",
    "    print('--'*20)\n",
    "    xy[n-1] = 0\n",
    "    print(xy)\n",
    "\n",
    "    # traverse down tree & build scan\n",
    "    for d in up_by_half(n):\n",
    "        stride >>=1\n",
    "        for tid in range(d):\n",
    "            ai = stride * (2*tid + 1) -1\n",
    "            bi = stride * (2*tid + 2) -1\n",
    "            temp = xy[ai]\n",
    "            xy[ai] = xy[bi]            \n",
    "            xy[bi] += temp\n",
    "        print(xy)\n",
    "            \n",
    "    # write results to device memory y\n",
    "    for tid in range(n>>1):\n",
    "        y[2*tid] = xy[2*tid]\n",
    "        y[2*tid+1] = xy[2*tid+1]            \n",
    "    \n",
    "\n",
    "scan(x, y, len(x))\n",
    "expected = [0, 3, 4, 11, 11, 15, 16, 22]\n",
    "print(f'y == {expected}', y == expected)"
   ]
  }
 ],
 "metadata": {
  "kernelspec": {
   "display_name": "Python 3",
   "language": "python",
   "name": "python3"
  },
  "language_info": {
   "codemirror_mode": {
    "name": "ipython",
    "version": 3
   },
   "file_extension": ".py",
   "mimetype": "text/x-python",
   "name": "python",
   "nbconvert_exporter": "python",
   "pygments_lexer": "ipython3",
   "version": "3.11.4"
  }
 },
 "nbformat": 4,
 "nbformat_minor": 2
}
